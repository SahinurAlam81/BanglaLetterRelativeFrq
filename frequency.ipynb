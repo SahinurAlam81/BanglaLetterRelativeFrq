{
 "cells": [
  {
   "cell_type": "code",
   "execution_count": 5,
   "metadata": {},
   "outputs": [],
   "source": [
    "import numpy as np\n",
    "import matplotlib.pyplot as plt\n",
    "from matplotlib.font_manager import FontProperties\n",
    "\n",
    "def fun(letters,counts) :\n",
    "    y_pos = np.arange(len(letters))\n",
    "    plt.figure(figsize=(23, 6)) \n",
    "    prop = FontProperties()\n",
    "    prop.set_file('/home/mijuku/Downloads/Programs/Siyamrupali.ttf')\n",
    "    plt.bar(y_pos, counts, align='center', alpha=0.5)\n",
    "    plt.xticks(y_pos, letters, fontproperties=prop, fontsize=20)\n",
    "    plt.ylabel('Frequency')\n",
    "    plt.title('Bangla letter counter')\n",
    "\n",
    "    plt.show()"
   ]
  },
  {
   "cell_type": "code",
   "execution_count": 7,
   "metadata": {},
   "outputs": [
    {
     "data": {
      "image/png": "[encoded data removed]",
      "text/plain": [
       "<Figure size 1656x432 with 1 Axes>"
      ]
     },
     "metadata": {
      "needs_background": "light"
     },
     "output_type": "display_data"
    },
    {
     "name": "stdout",
     "output_type": "stream",
     "text": [
      "মোট বর্ণ 601 টা\n",
      "\n",
      "'্' আছে 64 টা,পার্সেন্টিজ 10.649 % \n",
      "'র' আছে 58 টা,পার্সেন্টিজ 9.651 % \n",
      "'া' আছে 57 টা,পার্সেন্টিজ 9.484 % \n",
      "'ে' আছে 40 টা,পার্সেন্টিজ 6.656 % \n",
      "'ন' আছে 34 টা,পার্সেন্টিজ 5.657 % \n",
      "'ব' আছে 25 টা,পার্সেন্টিজ 4.160 % \n",
      "'ি' আছে 25 টা,পার্সেন্টিজ 4.160 % \n",
      "'ক' আছে 22 টা,পার্সেন্টিজ 3.661 % \n",
      "'ত' আছে 22 টা,পার্সেন্টিজ 3.661 % \n",
      "'স' আছে 22 টা,পার্সেন্টিজ 3.661 % \n",
      "'ট' আছে 19 টা,পার্সেন্টিজ 3.161 % \n",
      "'ম' আছে 16 টা,পার্সেন্টিজ 2.662 % \n",
      "'প' আছে 15 টা,পার্সেন্টিজ 2.496 % \n",
      "'ো' আছে 13 টা,পার্সেন্টিজ 2.163 % \n",
      "'ল' আছে 12 টা,পার্সেন্টিজ 1.997 % \n",
      "'ষ' আছে 12 টা,পার্সেন্টিজ 1.997 % \n",
      "'য়' আছে 11 টা,পার্সেন্টিজ 1.830 % \n",
      "'য' আছে 10 টা,পার্সেন্টিজ 1.664 % \n",
      "'ু' আছে 10 টা,পার্সেন্টিজ 1.664 % \n",
      "'জ' আছে 8 টা,পার্সেন্টিজ 1.331 % \n",
      "'শ' আছে 8 টা,পার্সেন্টিজ 1.331 % \n",
      "'।' আছে 7 টা,পার্সেন্টিজ 1.165 % \n",
      "'গ' আছে 7 টা,পার্সেন্টিজ 1.165 % \n",
      "'দ' আছে 7 টা,পার্সেন্টিজ 1.165 % \n",
      "'হ' আছে 7 টা,পার্সেন্টিজ 1.165 % \n",
      "'ং' আছে 5 টা,পার্সেন্টিজ 0.832 % \n",
      "'আ' আছে 5 টা,পার্সেন্টিজ 0.832 % \n",
      "'ী' আছে 5 টা,পার্সেন্টিজ 0.832 % \n",
      "'ৈ' আছে 5 টা,পার্সেন্টিজ 0.832 % \n",
      "'এ' আছে 4 টা,পার্সেন্টিজ 0.666 % \n",
      "'চ' আছে 4 টা,পার্সেন্টিজ 0.666 % \n",
      "'ঠ' আছে 4 টা,পার্সেন্টিজ 0.666 % \n",
      "'ফ' আছে 4 টা,পার্সেন্টিজ 0.666 % \n",
      "'অ' আছে 3 টা,পার্সেন্টিজ 0.499 % \n",
      "'ই' আছে 3 টা,পার্সেন্টিজ 0.499 % \n",
      "'ঙ' আছে 3 টা,পার্সেন্টিজ 0.499 % \n",
      "'ধ' আছে 3 টা,পার্সেন্টিজ 0.499 % \n",
      "'ভ' আছে 3 টা,পার্সেন্টিজ 0.499 % \n",
      "',' আছে 2 টা,পার্সেন্টিজ 0.333 % \n",
      "'উ' আছে 2 টা,পার্সেন্টিজ 0.333 % \n",
      "'ও' আছে 2 টা,পার্সেন্টিজ 0.333 % \n",
      "'থ' আছে 2 টা,পার্সেন্টিজ 0.333 % \n",
      "'(' আছে 1 টা,পার্সেন্টিজ 0.166 % \n",
      "')' আছে 1 টা,পার্সেন্টিজ 0.166 % \n",
      "'-' আছে 1 টা,পার্সেন্টিজ 0.166 % \n",
      "'.' আছে 1 টা,পার্সেন্টিজ 0.166 % \n",
      "'ছ' আছে 1 টা,পার্সেন্টিজ 0.166 % \n",
      "'ড' আছে 1 টা,পার্সেন্টিজ 0.166 % \n",
      "'ঢ' আছে 1 টা,পার্সেন্টিজ 0.166 % \n",
      "'ণ' আছে 1 টা,পার্সেন্টিজ 0.166 % \n",
      "'ূ' আছে 1 টা,পার্সেন্টিজ 0.166 % \n",
      "'ৃ' আছে 1 টা,পার্সেন্টিজ 0.166 % \n",
      "'ড়' আছে 1 টা,পার্সেন্টিজ 0.166 % \n"
     ]
    }
   ],
   "source": [
    "from collections import defaultdict \n",
    "\n",
    "def func(k):\n",
    "    m = defaultdict(int)\n",
    "    tot = 0\n",
    "    for ele in k :\n",
    "        if(ele == \"\\n\" or ele == \" \") :\n",
    "            continue \n",
    "        m[ele] += 1 \n",
    "        tot += 1 \n",
    "    letters = list(m)\n",
    "    letters.sort()\n",
    "    counts = list(map(lambda x: m[x] , letters)) \n",
    "    percentage = list(map(lambda x : ((x/tot)*100),counts))\n",
    "    fun(letters,counts)\n",
    "    arr = list(zip(letters,counts,percentage))\n",
    "    arr.sort(key=lambda x : -x[1])\n",
    "    print(\"মোট বর্ণ {} টা\\n\".format(tot))\n",
    "    for ele in arr :\n",
    "        print(\"'{}' আছে {} টা,পার্সেন্টিজ {:.3f} % \".format(ele[0],ele[1],ele[2]))\n",
    "    \n",
    "            \n",
    "#here the input\n",
    "inp = ''' পররাষ্ট্র মন্ত্রণালয় সূত্র জানায়, হযরত শাহজালাল আন্তর্জাতিক বিমানবন্দরে স্টিফেনকে স্বাগত জানান পররাষ্ট্র সচিব মাসুদ বিন মোমেন। পরে সন্ধ্যায় হোটেল ওয়েস্টিনে পররাষ্ট্র প্রতিমন্ত্রীর দেওয়া নৈশভোজে অংশ নেন স্টিফেন।বৃহস্পতিবার সকালে রাষ্ট্রীয় অতিথি ভবন পদ্মায় পররাষ্ট্রমন্ত্রী ড. মোমেনের সঙ্গে বৈঠক করবেন স্টিফেন। বৈঠকে যুক্তরাষ্ট্রের ইন্দো-প্যাসিফিক স্ট্র্যাটেজি (আইপিএস) বিষয়ে আলোচনা হবে। এ বৈঠকে রোহিঙ্গা সংকট সমাধানে যুক্তরাষ্ট্রের জোরালো সমর্থন চাইবে বাংলাদেশ। এ ছাড়া বাংলাদেশের অবকাঠামো উন্নয়নে যুক্তরাষ্ট্রের বিনিয়োগ, যুক্তরাষ্ট্রের বাজারে তৈরি পোশাক রপ্তানিতে শুল্কমুক্ত সুবিধা এবং ভিসা প্রসঙ্গ নিয়ে আলোচনা হবে। আগামী শুক্রবার সকালে ঢাকা ত্যাগ করবেন যুক্তরাষ্ট্রের উপপররাষ্ট্রমত্রী। '''\n",
    "\n",
    "func(inp)"
   ]
  },
  {
   "cell_type": "code",
   "execution_count": null,
   "metadata": {},
   "outputs": [],
   "source": []
  },
  {
   "cell_type": "code",
   "execution_count": null,
   "metadata": {},
   "outputs": [],
   "source": []
  }
 ],
 "metadata": {
  "kernelspec": {
   "display_name": "Python 3",
   "language": "python",
   "name": "python3"
  },
  "language_info": {
   "codemirror_mode": {
    "name": "ipython",
    "version": 3
   },
   "file_extension": ".py",
   "mimetype": "text/x-python",
   "name": "python",
   "nbconvert_exporter": "python",
   "pygments_lexer": "ipython3",
   "version": "3.8.3"
  }
 },
 "nbformat": 4,
 "nbformat_minor": 2
}
